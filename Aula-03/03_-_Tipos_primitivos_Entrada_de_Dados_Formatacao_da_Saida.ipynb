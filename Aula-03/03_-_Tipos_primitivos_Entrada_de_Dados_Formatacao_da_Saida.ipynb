{
 "cells": [
  {
   "cell_type": "markdown",
   "metadata": {},
   "source": [
    "# Aula 03\n",
    "\n",
    "## Tipos primitivos de Python, Entrada de Dados, Formatação da Saída\n",
    "\n",
    "Um **tipo** é um conjunto de valores equipados com um conjunto de operações. Por exemplo, o tipo inteiro possui valores inteiros e podemos realizar operações de soma, subtração, multiplicação e divisão.\n",
    "\n",
    "**Tipos Primitivos** são os tipos que a linguagem já disponibiliza para uso e que não precisam ser definidos. Existem ainda os tipos definidos pelo usuário, que veremos mais adiante.\n",
    "\n",
    "### Tipos Dinâmicos vs Tipos Estáticos\n",
    "\n",
    "Uma das pricipais características dos defensores de Python é sua facilidade de uso. Dentre as propriedades da linguagem que contribuem para isso é a chamada `tipagem dinâmica`. Ou seja, programadores Python não precisam declarar previamente o tipo da variável. Esse tipo é inferido quando um valor é atribuído à variável. Além disso, a depender dos valores atribuídos a ela, uma mesma variável pode assumir diferentes tipos em um mesmo programa. \n",
    "\n",
    "Por outro lado, linguagens com `tipos estáticos`, como Java e C, requerem a declaração prévia do tipo. A variável manterá o mesmo tipo até o fim do programa. Vamos comparar as duas abordagens:\n",
    "\n",
    "```python\n",
    "/* código C */\n",
    "int cont;\n",
    "cont = 0;\n",
    "for(int i=0; i<100; i++){\n",
    "    cont += i;\n",
    "}\n",
    "\n",
    "# código Python\n",
    "cont = 0\n",
    "for i in range(100):\n",
    "cont += i\n",
    "```\n",
    "\n",
    "Note que, enquanto C declara a variável ```cont``` (int cont;), Python atribui 0 à ```cont``` sem declarar o tipo.\n",
    "\n",
    "No exemplo abaixo, são feitas duas atribuições a uma variáve ```val```. Na primeira, ```val``` recebe um valor numérico e assume um tipo numérico. Na segunda, ```val``` recebe um valor textual e assume um tipo textual.\n",
    "```python\n",
    "/* código Python */\n",
    "val = 3\n",
    "val = 'três'\n",
    "```\n",
    "Se tentarmos fazer o mesmo em C, o compilador enviaria uma mensagem de erro, pois o tipo de ```val``` deve permanecer o mesmo em todo o programa.\n",
    "```python\n",
    "/* código C */\n",
    "int val;\n",
    "val = 3;\n",
    "val = \"três\"; // Erro: o tipo de val foi declarado como int e não pode receber um string\n",
    "```\n",
    "#### There is no free lunch\n",
    "\n",
    "Mas, se é a tipagem dinâmica é tão boa, pois simplifica a escrita do código, por quê todas as linguagens não seguem o mesmo caminho? A resposta é: por que elas querem ter mais garantias de que o código está correto. De fato, nas linguagens com tipo estático, não há risco de que o programador atribua acidentalmente um valor de um tipo diferente daquele esperado pela variável. Assim, há uma maior consistência ao longo de todo programa sobre o uso daquela variável. \n",
    "\n",
    "Além disso, ao ter que definir um tipo para uma variável ou função, o programador é forçado a pensar com mais cuidado sobre as propriedades e formas de uso dessa variável ou função. Esse exercício, tem o benefício de produzir códigos mais corretos e de melhor qualidade.\n",
    "\n",
    "Em resumo, existem vantagens e desvantagens da tipagem estática e tipagem dinâmica. É preciso sempre colocar tais questões em perspectiva no momento da escolha de uma linguagem de programação.\n",
    "\n",
    "### Tipos Numéricos\n",
    "\n",
    "Existem dois tipos numéricos:\n",
    "* integers: \n",
    "    … -1, -2, 0, 1, 2 ...\n",
    "* floats: \n",
    "    - 2.24\n",
    "    - 32.2E-5 (a notação E indica potência de 10: 32.2 * 10^5\n",
    "\n",
    "Em Python, não existem diferentes tamanhos para tipos numéricos, como ocorre em outras linguagens, como C e Java.\n",
    "\n"
   ]
  },
  {
   "cell_type": "code",
   "execution_count": 2,
   "metadata": {},
   "outputs": [
    {
     "name": "stdout",
     "output_type": "stream",
     "text": [
      "Linhas de cima\n",
      "Linhas de baixo\n"
     ]
    }
   ],
   "source": [
    "print('Linhas de cima\\nLinhas de baixo')"
   ]
  },
  {
   "cell_type": "code",
   "execution_count": 3,
   "metadata": {},
   "outputs": [
    {
     "name": "stdout",
     "output_type": "stream",
     "text": [
      "tab\t tab\n"
     ]
    }
   ],
   "source": [
    "print('tab\\t tab')"
   ]
  },
  {
   "cell_type": "code",
   "execution_count": 4,
   "metadata": {},
   "outputs": [
    {
     "name": "stdout",
     "output_type": "stream",
     "text": [
      "I'm going to study python\n"
     ]
    }
   ],
   "source": [
    "print('I\\'m going to study python')"
   ]
  },
  {
   "cell_type": "markdown",
   "metadata": {},
   "source": [
    "Alguns exemplos do uso de strings são:\n",
    "- nome e sobrenome\n",
    "- nome de usuário\n",
    "- passwords\n",
    "- endereço postal\n",
    "- endereço de email\n",
    "- mensagens para o usuário\n",
    "\n",
    "Vamos agora aplicar algumas funções para manipulação com Strings.\n",
    "\n",
    "Quando usado em strings, o operador **+** realiza a concatenação dos strings.\n",
    "\n",
    "O operador foi usado no programa abaixo, que deveria imprimir a mensagen:\n",
    "\n",
    "*Bom dia, Augusto!*  \n",
    "*Augusto, o que você deseja hoje?*\n",
    "\n",
    "Teste o programa. Se algo der errado, corrija para que imprima a mensagem desejada."
   ]
  },
  {
   "cell_type": "code",
   "execution_count": 6,
   "metadata": {},
   "outputs": [
    {
     "name": "stdout",
     "output_type": "stream",
     "text": [
      "Bom dia, Augusto!\n",
      "Augusto, o que você deseja hoje?\n"
     ]
    }
   ],
   "source": [
    "nome = 'Augusto'\n",
    "boas_vindas = 'Bom dia, '\n",
    "pergunta = 'o que você deseja hoje?'\n",
    "\n",
    "msg = boas_vindas + nome + \"!\\n\" + nome + ', ' + pergunta\n",
    "\n",
    "print(msg)"
   ]
  },
  {
   "cell_type": "code",
   "execution_count": 8,
   "metadata": {},
   "outputs": [
    {
     "name": "stdout",
     "output_type": "stream",
     "text": [
      "Bom Dia!\n"
     ]
    }
   ],
   "source": [
    "msg = 'Bom dia!'\n",
    "print(msg.title())"
   ]
  },
  {
   "cell_type": "code",
   "execution_count": 9,
   "metadata": {},
   "outputs": [
    {
     "name": "stdout",
     "output_type": "stream",
     "text": [
      "BOM DIA!\n"
     ]
    }
   ],
   "source": [
    "print(msg.upper())"
   ]
  },
  {
   "cell_type": "code",
   "execution_count": 10,
   "metadata": {},
   "outputs": [
    {
     "name": "stdout",
     "output_type": "stream",
     "text": [
      "bom dia!\n"
     ]
    }
   ],
   "source": [
    "print(msg.lower())"
   ]
  },
  {
   "cell_type": "code",
   "execution_count": 12,
   "metadata": {},
   "outputs": [
    {
     "name": "stdout",
     "output_type": "stream",
     "text": [
      "['Bom', 'dia!']\n"
     ]
    }
   ],
   "source": [
    "msg_palavras = msg.split()\n",
    "print(msg_palavras)"
   ]
  },
  {
   "cell_type": "code",
   "execution_count": 14,
   "metadata": {},
   "outputs": [
    {
     "name": "stdout",
     "output_type": "stream",
     "text": [
      "Bom dia!\n"
     ]
    }
   ],
   "source": [
    "junta_palavras = \" \".join(msg_palavras)\n",
    "print(junta_palavras)"
   ]
  },
  {
   "cell_type": "code",
   "execution_count": 15,
   "metadata": {},
   "outputs": [
    {
     "name": "stdout",
     "output_type": "stream",
     "text": [
      "Bom-dia!\n"
     ]
    }
   ],
   "source": [
    "junta_palavras = \"-\".join(msg_palavras)\n",
    "print(junta_palavras)"
   ]
  },
  {
   "cell_type": "markdown",
   "metadata": {},
   "source": [
    "Existe uma grande variedade de funções disponíveis para manipular strings. Para consultá-las, utilize a opção de autocomplete, que pode ser ativada no Jupyter através do comando a seguir: "
   ]
  },
  {
   "cell_type": "code",
   "execution_count": 16,
   "metadata": {},
   "outputs": [],
   "source": [
    "%config IPCompleter.greedy=True\n",
    "msg_palavras."
   ]
  },
  {
   "cell_type": "markdown",
   "metadata": {},
   "source": [
    "Agora, basta digitar o nome da variável que armazena o String seguida de ponto e clicar na tecla tab."
   ]
  },
  {
   "cell_type": "markdown",
   "metadata": {},
   "source": [
    "### Formatação da Saída\n",
    "\n",
    "Vamos agora estudar maneira mais sofisticadas para formatar a saída do programa através do método format().\n",
    "\n",
    "Até agora, temos utilizado a seguinte estrutura:"
   ]
  },
  {
   "cell_type": "code",
   "execution_count": 18,
   "metadata": {},
   "outputs": [
    {
     "name": "stdout",
     "output_type": "stream",
     "text": [
      "Parabéns, Augusto! Hoje você completa 18 anos!\n"
     ]
    }
   ],
   "source": [
    "nome = 'Augusto'\n",
    "idade = 18\n",
    "print('Parabéns, ' + nome + '! Hoje você completa ' + str(idade) + ' anos!')"
   ]
  },
  {
   "cell_type": "markdown",
   "metadata": {},
   "source": [
    "Não é uma forma tão interessante de formatar a saída, pois o programador precisa:\n",
    "1. Incluir os operadores de concatenação\n",
    "2. Ter cuidado para inserir espaços corretamente\n",
    "3. Converter explicitamente os tipos numéricos para strings\n",
    "\n",
    "O método `format` ajuda a o programador a evitar essas dificuldades.\n",
    "\n",
    "O código a seguir produzirá o mesmo efeito:"
   ]
  },
  {
   "cell_type": "code",
   "execution_count": 19,
   "metadata": {},
   "outputs": [
    {
     "name": "stdout",
     "output_type": "stream",
     "text": [
      "Parabéns, Augusto! Hoje você completa 18 anos!\n"
     ]
    }
   ],
   "source": [
    "print('Parabéns, {0}! Hoje você completa {1} anos!'.format(nome, idade))"
   ]
  },
  {
   "cell_type": "markdown",
   "metadata": {},
   "source": [
    "Note que:\n",
    "1. o índice `{0}` inicia em 0; \n",
    "2. o comando `.format(nome,idade)` já converte o valor numérico armazenado em `idade` em um String.\n",
    "\n",
    "Algumas formas alternativas para uso do `format`:"
   ]
  },
  {
   "cell_type": "code",
   "execution_count": 23,
   "metadata": {},
   "outputs": [
    {
     "name": "stdout",
     "output_type": "stream",
     "text": [
      "Parabéns, Augusto! Hoje você completa 18 anos!\n",
      "Parabéns, Augusto! Augusto, hoje você completa 18 anos!\n",
      "Parabéns, Augusto! Hoje você completa 18 anos!\n"
     ]
    }
   ],
   "source": [
    "print('Parabéns, {}! Hoje você completa {} anos!'.format(nome, idade))\n",
    "print('Parabéns, {n}! {n}, hoje você completa {i} anos!'.format(n=nome, i=idade))\n",
    "print(f'Parabéns, {nome}! Hoje você completa {idade} anos!')"
   ]
  },
  {
   "cell_type": "markdown",
   "metadata": {},
   "source": [
    "Imprimindo com padrões regionais: "
   ]
  },
  {
   "cell_type": "code",
   "execution_count": 30,
   "metadata": {},
   "outputs": [
    {
     "name": "stdout",
     "output_type": "stream",
     "text": [
      "Preço do produto (Brasil - 2 casas): 6543,22\n"
     ]
    }
   ],
   "source": [
    "import locale\n",
    "\n",
    "preco = 6543.219\n",
    "\n",
    "# configura localização brasileira\n",
    "locale.setlocale(locale.LC_ALL, 'pt_BR.utf-8')\n",
    "\n",
    "print('Preço do produto (Brasil - 2 casas): {}'.format(locale.format_string('%.2f', preco)))"
   ]
  },
  {
   "cell_type": "code",
   "execution_count": 31,
   "metadata": {},
   "outputs": [
    {
     "name": "stdout",
     "output_type": "stream",
     "text": [
      "Preço do produto (Brasil - 2 casas + agrupamento de milhares): 6.543,22\n"
     ]
    }
   ],
   "source": [
    "# 2 casas decimais e agrupamento de milhares\n",
    "print('Preço do produto (Brasil - 2 casas + agrupamento de milhares): {}'.format(locale.format_string('%.2f', preco, grouping=True)))"
   ]
  },
  {
   "cell_type": "code",
   "execution_count": 32,
   "metadata": {},
   "outputs": [
    {
     "name": "stdout",
     "output_type": "stream",
     "text": [
      "Preço do produto (Brasil - 2 casas + agrupamento de milhares, moeda): R$6.543,22\n"
     ]
    }
   ],
   "source": [
    "# cria dicionário de convenções\n",
    "conv = locale.localeconv()\n",
    "\n",
    "# 2 casas decimais e agrupamento de milhares, moeda Local\n",
    "print('Preço do produto (Brasil - 2 casas + agrupamento de milhares, moeda): {}'.format(locale.format_string('%s%.2f', (conv['currency_symbol'], preco), grouping=True)))"
   ]
  },
  {
   "cell_type": "code",
   "execution_count": 34,
   "metadata": {},
   "outputs": [
    {
     "data": {
      "text/plain": [
       "'en_US.UTF-8'"
      ]
     },
     "execution_count": 34,
     "metadata": {},
     "output_type": "execute_result"
    }
   ],
   "source": [
    "# Configura para dólar\n",
    "locale.setlocale(locale.LC_ALL, 'en_US.UTF-8')"
   ]
  },
  {
   "cell_type": "code",
   "execution_count": 35,
   "metadata": {},
   "outputs": [
    {
     "name": "stdout",
     "output_type": "stream",
     "text": [
      "Preço do produto (USA - 2 casas + agrupamento de milhares, moeda): $6,543.22\n"
     ]
    }
   ],
   "source": [
    "# cria dicionário de convenções\n",
    "conv = locale.localeconv()\n",
    "\n",
    "# 2 casas decimais e agrupamento de milhares, moeda Local\n",
    "print('Preço do produto (USA - 2 casas + agrupamento de milhares, moeda): {}'.format(locale.format_string('%s%.2f', (conv['currency_symbol'], preco), grouping=True)))"
   ]
  },
  {
   "cell_type": "markdown",
   "metadata": {},
   "source": [
    "O comando `print` sempre inclui uma quebra de linhas no final. \n",
    "Para evitar isso, é possível usar o parâmetro `end`."
   ]
  },
  {
   "cell_type": "code",
   "execution_count": 37,
   "metadata": {},
   "outputs": [
    {
     "name": "stdout",
     "output_type": "stream",
     "text": [
      "Bom dia, Augusto!"
     ]
    }
   ],
   "source": [
    "print('Bom dia', end=', ')\n",
    "print('Augusto!', end='')"
   ]
  },
  {
   "cell_type": "code",
   "execution_count": 38,
   "metadata": {},
   "outputs": [
    {
     "name": "stdout",
     "output_type": "stream",
     "text": [
      "Bom dia, Augusto!\n"
     ]
    }
   ],
   "source": [
    "print('Bom dia, ', end='')\n",
    "print('Augusto!',)"
   ]
  },
  {
   "cell_type": "code",
   "execution_count": 39,
   "metadata": {},
   "outputs": [
    {
     "name": "stdout",
     "output_type": "stream",
     "text": [
      "Bom dia, \n",
      "Augusto!\n"
     ]
    }
   ],
   "source": [
    "print('Bom dia, ')\n",
    "print('Augusto!',)"
   ]
  },
  {
   "cell_type": "markdown",
   "metadata": {},
   "source": [
    "### Entrada de Dados\n",
    "\n",
    "A entrada de dados serve para que o usuário forneça valores para o programa.\n",
    "\n",
    "Os valores fornecidos pelo usuário podem ser armazenados em variáveis, por exemplo:"
   ]
  },
  {
   "cell_type": "code",
   "execution_count": 40,
   "metadata": {},
   "outputs": [
    {
     "name": "stdout",
     "output_type": "stream",
     "text": [
      "Digite seu nomewelton\n",
      "Bom dia, welton\n"
     ]
    }
   ],
   "source": [
    "nome = input('Digite seu nome')\n",
    "print(f'Bom dia, {nome}')"
   ]
  },
  {
   "cell_type": "markdown",
   "metadata": {},
   "source": [
    "O comando `input` sempre lê o valor digitado como uma string."
   ]
  },
  {
   "cell_type": "code",
   "execution_count": 41,
   "metadata": {},
   "outputs": [
    {
     "name": "stdout",
     "output_type": "stream",
     "text": [
      "Digite o primeiro operando: 2\n",
      "Digite o segundo operando: 4\n",
      "O resultado é 24\n"
     ]
    }
   ],
   "source": [
    "operando1 = input('Digite o primeiro operando: ')\n",
    "operando2 = input('Digite o segundo operando: ')\n",
    "\n",
    "resultado = operando1 + operando2\n",
    "\n",
    "print(f'O resultado é {resultado}')"
   ]
  },
  {
   "cell_type": "markdown",
   "metadata": {},
   "source": [
    "Se você testar o tipo de operando1 e operando2:"
   ]
  },
  {
   "cell_type": "code",
   "execution_count": 42,
   "metadata": {},
   "outputs": [
    {
     "data": {
      "text/plain": [
       "str"
      ]
     },
     "execution_count": 42,
     "metadata": {},
     "output_type": "execute_result"
    }
   ],
   "source": [
    "type(operando1)"
   ]
  },
  {
   "cell_type": "code",
   "execution_count": 43,
   "metadata": {},
   "outputs": [
    {
     "data": {
      "text/plain": [
       "str"
      ]
     },
     "execution_count": 43,
     "metadata": {},
     "output_type": "execute_result"
    }
   ],
   "source": [
    "type(operando2)"
   ]
  },
  {
   "cell_type": "markdown",
   "metadata": {},
   "source": [
    "Para efetuar a leitura de valores int e float, temos que forçar a conversão: "
   ]
  },
  {
   "cell_type": "code",
   "execution_count": 44,
   "metadata": {},
   "outputs": [
    {
     "name": "stdout",
     "output_type": "stream",
     "text": [
      "Digite o primeiro operando: 21\n",
      "Digite o segundo operando: 13\n",
      "O resultado é 34\n"
     ]
    }
   ],
   "source": [
    "operando1 = int(input('Digite o primeiro operando: '))\n",
    "operando2 = int(input('Digite o segundo operando: '))\n",
    "\n",
    "resultado = operando1 + operando2\n",
    "\n",
    "print(f'O resultado é {resultado}')"
   ]
  },
  {
   "cell_type": "markdown",
   "metadata": {},
   "source": [
    "### Exercício\n",
    "Escreva um programa que pede o nome e a idade (inteiro) e peso (double) de uma pessoa e imprime uma mensagem com tais informações. O peso tem que ser impresso com duas casas decimais (utilize pontos como separador decimal).\n",
    "- *Ex: José, 25 anos, pesa 72,18 kg!*"
   ]
  },
  {
   "cell_type": "code",
   "execution_count": 49,
   "metadata": {},
   "outputs": [
    {
     "name": "stdout",
     "output_type": "stream",
     "text": [
      "Digite seu nome: João\n",
      "Digite sua idade: 10\n",
      "Digite seu peso: 21\n",
      "João, 10 anos, pesa 21.00 kg!\n"
     ]
    }
   ],
   "source": [
    "nome = input('Digite seu nome: ')\n",
    "idade = int(input('Digite sua idade: '))\n",
    "peso = float(input('Digite seu peso: '))\n",
    "\n",
    "print(f'{nome}, {idade} anos, pesa {peso:0.2f} kg!')"
   ]
  }
 ],
 "metadata": {
  "kernelspec": {
   "display_name": "Python 3 (ipykernel)",
   "language": "python",
   "name": "python3"
  },
  "language_info": {
   "codemirror_mode": {
    "name": "ipython",
    "version": 3
   },
   "file_extension": ".py",
   "mimetype": "text/x-python",
   "name": "python",
   "nbconvert_exporter": "python",
   "pygments_lexer": "ipython3",
   "version": "3.10.6"
  },
  "toc": {
   "base_numbering": 1,
   "nav_menu": {},
   "number_sections": true,
   "sideBar": true,
   "skip_h1_title": false,
   "title_cell": "Table of Contents",
   "title_sidebar": "Contents",
   "toc_cell": false,
   "toc_position": {},
   "toc_section_display": true,
   "toc_window_display": false
  }
 },
 "nbformat": 4,
 "nbformat_minor": 2
}
