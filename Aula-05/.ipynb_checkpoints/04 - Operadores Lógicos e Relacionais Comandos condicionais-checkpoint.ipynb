{
 "cells": [
  {
   "cell_type": "code",
   "execution_count": null,
   "metadata": {
    "id": "n6sViQBSRpAJ"
   },
   "outputs": [],
   "source": [
    "from google.colab import drive\n",
    "drive.mount('/content/drive')\n",
    "\n",
    "import cv2\n",
    "from google.colab.patches import cv2_imshow"
   ]
  },
  {
   "cell_type": "markdown",
   "metadata": {
    "id": "BiTPDndURrTu"
   },
   "source": [
    "# Aula 04\n",
    "\n",
    "## Operadores Lógicos e Relacionais,  Comandos Condicionais\n",
    "\n",
    "---\n",
    "## Operadores Relacionais\n",
    "\n",
    "\n",
    "<img  src=\"https://drive.google.com/uc?id=1pK__UpQsDAVTDDIyuxa-1DiGOwaUSMjj\" width=\"400\" />\n",
    "\n",
    "---\n",
    "## Operadores Lógicos e Booleanos\n",
    "\n",
    "<img  src=\"https://drive.google.com/uc?id=1B4EpcLJPWup3eSea9inFBFQ0x5aC9zPf\" width=\"400\" />\n",
    "\n",
    "---\n",
    "## Tabela Verdade\n",
    "\n",
    "<img  src=\"https://drive.google.com/uc?id=1h0mapVYo_-pydEN3QZcAhmpa69YntHpB\" width=\"400\" />\n",
    "\n",
    "Teste o valor de *b* e *c* em cada passo:"
   ]
  },
  {
   "cell_type": "code",
   "execution_count": null,
   "metadata": {
    "id": "qc65-wZSRg98"
   },
   "outputs": [],
   "source": []
  },
  {
   "cell_type": "markdown",
   "metadata": {
    "id": "QpV5sV2xRg99"
   },
   "source": [
    "## Abreviação de Operadores Aritméticos de Atribuição"
   ]
  },
  {
   "cell_type": "code",
   "execution_count": null,
   "metadata": {
    "id": "1jlUiGreRg9-"
   },
   "outputs": [],
   "source": []
  },
  {
   "cell_type": "code",
   "execution_count": null,
   "metadata": {
    "id": "PlENZpTURg9_"
   },
   "outputs": [],
   "source": []
  },
  {
   "cell_type": "markdown",
   "metadata": {
    "id": "7lkVgrEyRg9_"
   },
   "source": [
    "Python **não** utiliza o abreviador de incremento `++` e decremento `--` como em outras linguagens, que fazem uso de operações como `for (int i = 0; i < 10; ++i)`. Ao invés disso, em operações desse tipo, Python utiliza o comando a seguir, que veremos mais adiante."
   ]
  },
  {
   "cell_type": "code",
   "execution_count": null,
   "metadata": {
    "id": "fVxcNzv0Rg9_"
   },
   "outputs": [],
   "source": []
  },
  {
   "cell_type": "markdown",
   "metadata": {
    "id": "CIIKl3-URg-A"
   },
   "source": [
    "## Precedência de Operadores\n",
    "\n",
    "Assim como aprendemos em nossas aulas de matemática, as expressões a seguir são equivalente e avaliam para 14"
   ]
  },
  {
   "cell_type": "code",
   "execution_count": null,
   "metadata": {
    "id": "NejxJObCRg-A"
   },
   "outputs": [],
   "source": []
  },
  {
   "cell_type": "markdown",
   "metadata": {
    "id": "3PAvl8fbRg-B"
   },
   "source": [
    "As linguagens de programação definem uma ordem de avaliação dos operadores, também conhecida como precedência de operadores. Em Python, a ordem de precedência é definida como segue, sendo a **exponenciação** com maior precedência e o **booleano `or`** com menor precedência:\n",
    "\n",
    "1. `**` : Exponenciação\n",
    "2. `+x`, `-x` : Positivo, Negativo\n",
    "3. `*`, `/`, `//`, `%` : Multiplicação, Divisão, Divisão inteira e resto\n",
    "4. `+`, `-` : Adição e subtração\n",
    "5. `<`, `<=`, `>`, `>=`, `!=`, `==`\n",
    "6. `not` : Boolean NOT\n",
    "7. `and` : Boolean AND\n",
    "8. `or` : Boolean OR\n",
    "\n",
    "O uso de parênteses para definir a precedência de operadores possui duas vantagens:\n",
    "1. Torna o programa mais legível, pois não requer conhecimento prévio sobre a precedência de operadores em Python\n",
    "\n",
    "\t`2 + (3 * 4)`\n",
    "    \n",
    "\n",
    "2. Permite modificar a ordem de precedência\n",
    "\n",
    "\t`(2 + 3) * 4`\n",
    "\n",
    "## Expressões Lógicas/Booleanas\n",
    "\n",
    "Estruturas de controle (seleção e repetição) utilizam expressões booleanas para decidir:\n",
    "1. Qual bloco de comandos será executado:\n",
    "\n",
    "```python\n",
    "if EXPRESSAO_BOOLEANA_1:\n",
    "    # bloco 1\n",
    "elif EXPRESSAO_BOOLEANA_2:\n",
    "    # bloco 2\n",
    "else:\n",
    "    # bloco 3\n",
    "```\n",
    "\n",
    "\n",
    "2. Se o bloco de comandos deverá ser repetido:\n",
    "\n",
    "```python\n",
    "while EXPRESSAO_BOOLEANA:\n",
    "    # bloco\n",
    "```\n",
    "            \n",
    "\n",
    "## Comando IF-ELSE\n",
    "\n",
    "<img  src=\"https://drive.google.com/uc?id=13zW-iXeIuosmDGRT6wX1AoSkwzHs7Jun\" width=\"400\" />\n",
    "\n",
    "\n",
    "Vamos escrever um programa que faz a leitura de três números inteiros e imprime o maior dos três.\n"
   ]
  },
  {
   "cell_type": "code",
   "execution_count": null,
   "metadata": {
    "id": "FVoG_FrSRg-C"
   },
   "outputs": [],
   "source": []
  },
  {
   "cell_type": "markdown",
   "metadata": {
    "id": "4lSBnFPPRg-D"
   },
   "source": [
    "### Exercício\n",
    "\n",
    "Escreva um programa para ler um valor real correspondente a uma nota, tal que 0 ≤ nota ≤ 10, e imprimir o conceito equivalente (A, B, C, D ou E), conforme a seguinte tabela:\n",
    "\n",
    "<img  src=\"https://drive.google.com/uc?id=1ows5bH-WMgybGeONb8vc0ZowKQJTT4gX\" width=\"400\" />\n"
   ]
  },
  {
   "cell_type": "code",
   "execution_count": null,
   "metadata": {
    "id": "3JjzrplVRg-E"
   },
   "outputs": [],
   "source": []
  },
  {
   "cell_type": "markdown",
   "metadata": {
    "id": "kv8VbzSbRg-E"
   },
   "source": [
    "## Coerção de Tipos\n",
    "\n",
    "É possível converter um valor de um tipo em outro tipo, desde que faça sentido. Por exemplo, não faria sentido converter o string “Rui” para inteiro. Por outro lado, faria sentido converter o String \"3\" em um valor inteiro.\n",
    "\n",
    "Seguem alguns exemplos de funções que podem ser usadas para fazer converções de valores de um tipo para outro tipo.\n",
    "\n"
   ]
  },
  {
   "cell_type": "code",
   "execution_count": null,
   "metadata": {
    "id": "Mm62m6eKRg-E"
   },
   "outputs": [],
   "source": []
  },
  {
   "cell_type": "markdown",
   "metadata": {
    "id": "xVgasQHqRg-F"
   },
   "source": [
    "### Exercício 1\n",
    "\n",
    "Escreva um programa para ler dois valores reais, x e y, correspondentes às coordenadas de um ponto no plano e dizer em que quadrante se encontra, ou se está no eixo-x ou no eixo-y ou se está na origem.\n",
    "\n",
    "<img  src=\"https://drive.google.com/uc?id=1nqnuRUMuH8HEVOYAJaAVQ73CDQCBUKE8\" width=\"400\" />\n",
    "\n",
    "\n",
    "### Exercício 2\n",
    "\n",
    "Escreva um programa para ler valores para os três lados de um triângulo e dizer o seu tipo (equilátero, isósceles ou escaleno).  \n",
    "\n",
    "### Exercício 3\n",
    "Escreva um programa para ler dois valores reais, correspondentes ao peso e à altura de uma pessoa, e calcular o Índice de Massa Corporal (IMC), pela fórmula: `IMC = peso/altura**2`. Em seguida, dar mensagem conforme a seguinte tabela:\n",
    "\n",
    "\n",
    "<img  src=\"https://drive.google.com/uc?id=1EVAiYJS8VKdOSON4umyKDKH6JDDL8SzU\" width=\"400\" />\n",
    "\n",
    "\n",
    "\n"
   ]
  },
  {
   "cell_type": "code",
   "execution_count": null,
   "metadata": {
    "id": "Fk41dQiCRg-F"
   },
   "outputs": [],
   "source": []
  }
 ],
 "metadata": {
  "colab": {
   "provenance": []
  },
  "kernelspec": {
   "display_name": "Python 3 (ipykernel)",
   "language": "python",
   "name": "python3"
  },
  "language_info": {
   "codemirror_mode": {
    "name": "ipython",
    "version": 3
   },
   "file_extension": ".py",
   "mimetype": "text/x-python",
   "name": "python",
   "nbconvert_exporter": "python",
   "pygments_lexer": "ipython3",
   "version": "3.10.6"
  },
  "toc": {
   "base_numbering": 1,
   "nav_menu": {},
   "number_sections": true,
   "sideBar": true,
   "skip_h1_title": false,
   "title_cell": "Table of Contents",
   "title_sidebar": "Contents",
   "toc_cell": false,
   "toc_position": {},
   "toc_section_display": true,
   "toc_window_display": false
  }
 },
 "nbformat": 4,
 "nbformat_minor": 1
}
