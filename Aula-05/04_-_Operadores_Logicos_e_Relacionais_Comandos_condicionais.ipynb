{
 "cells": [
  {
   "cell_type": "markdown",
   "metadata": {},
   "source": [
    "# Aula 04\n",
    "\n",
    "## Operadores Lógicos e Relacionais,  Comandos Condicionais\n",
    "\n",
    "---\n",
    "## Operadores Relacionais\n",
    "\n",
    "\n",
    "<img  src=\"../imagens/operadoresRelacionais.png\" width=\"400\" />\n",
    "\n",
    "---\n",
    "## Operadores Lógicos e Booleanos\n",
    "\n",
    "\n",
    "<img src=\"../imagens/operadoresLogicos.png\" width=\"400\" />\n",
    "\n",
    "---\n",
    "## Tabela Verdade\n",
    "\n",
    "<img src=\"../imagens/tabelaVerdade.png\" width=\"600\" />\n",
    "\n",
    "Teste o valor de *b* e *c* em cada passo:"
   ]
  },
  {
   "cell_type": "code",
   "execution_count": 8,
   "metadata": {},
   "outputs": [
    {
     "name": "stdout",
     "output_type": "stream",
     "text": [
      "True\n",
      "False\n",
      "False\n",
      "True\n",
      "True\n",
      "True\n",
      "True\n"
     ]
    }
   ],
   "source": [
    "b = True # True\n",
    "print(b)\n",
    "c = not b # False\n",
    "print(c)\n",
    "c = not (True or b) and c # False\n",
    "print(c)\n",
    "b = c or not(not b) # True\n",
    "print(b)\n",
    "b = True or False # True\n",
    "print(b)\n",
    "c = True and b # True\n",
    "print(c)\n",
    "b = b == c #True\n",
    "print(b)"
   ]
  },
  {
   "cell_type": "markdown",
   "metadata": {},
   "source": [
    "## Abreviação de Operadores Aritméticos de Atribuição"
   ]
  },
  {
   "cell_type": "code",
   "execution_count": 5,
   "metadata": {},
   "outputs": [
    {
     "data": {
      "text/plain": [
       "7"
      ]
     },
     "execution_count": 5,
     "metadata": {},
     "output_type": "execute_result"
    }
   ],
   "source": [
    "a = 5\n",
    "a += 2\n",
    "a"
   ]
  },
  {
   "cell_type": "code",
   "execution_count": 9,
   "metadata": {},
   "outputs": [
    {
     "data": {
      "text/plain": [
       "3"
      ]
     },
     "execution_count": 9,
     "metadata": {},
     "output_type": "execute_result"
    }
   ],
   "source": [
    "a = 5\n",
    "a -= 2\n",
    "a"
   ]
  },
  {
   "cell_type": "markdown",
   "metadata": {},
   "source": [
    "Python não utiliza o abreviador de incremento `++` e decremento `--` como em outras linguagens, onde são comuns o uso de operações como `for (int i = 0; i < 10; ++i)`. Ao invés disso, em operações desse tipo, Python utiliza o comando a seguir, que veremos mais adiante."
   ]
  },
  {
   "cell_type": "code",
   "execution_count": 21,
   "metadata": {},
   "outputs": [
    {
     "name": "stdout",
     "output_type": "stream",
     "text": [
      "0\n",
      "1\n",
      "2\n",
      "3\n",
      "4\n",
      "5\n",
      "6\n",
      "7\n",
      "8\n",
      "9\n"
     ]
    }
   ],
   "source": [
    "for i in range(0, 10):\n",
    "    print(i)"
   ]
  },
  {
   "cell_type": "markdown",
   "metadata": {},
   "source": [
    "## Precedência de Operadores\n",
    "\n",
    "Assim como aprendemos em nossas aulas de matemática, as expressões a seguir são equivalente e avaliam para 14"
   ]
  },
  {
   "cell_type": "code",
   "execution_count": 24,
   "metadata": {},
   "outputs": [
    {
     "name": "stdout",
     "output_type": "stream",
     "text": [
      "expressão 1 = 14\n",
      "expressão 2 = 20\n"
     ]
    }
   ],
   "source": [
    "e1 = 2 + 3 * 4\n",
    "e2 = (2 + 3) * 4\n",
    "print(f\"expressão 1 = {e1}\")\n",
    "print(f\"expressão 2 = {e2}\")"
   ]
  },
  {
   "cell_type": "markdown",
   "metadata": {},
   "source": [
    "As linguagens de programação definem uma ordem de avaliação dos operadores, também conhecida como precedência de operadores. Em Python, a ordem de precedência é definida como segue, sendo a **exponenciação** com maior precedência e o **booleano `or`** com menor precedência:\n",
    "\n",
    "1. `**` : Exponenciação\n",
    "2. `+x`, `-x` : Positivo, Negativo\n",
    "3. `*`, `/`, `//`, `%` : Multiplicação, Divisão, Divisão inteira e resto\n",
    "4. `+`, `-` : Adição e subtração\n",
    "5. `<`, `<=`, `>`, `>=`, `!=`, `==`\n",
    "6. `not` : Boolean NOT\n",
    "7. `and` : Boolean AND\n",
    "8. `or` : Boolean OR\n",
    "\n",
    "O uso de parênteses para definir a precedência de operadores possui duas vantagens:\n",
    "1. Torna o programa mais legível, pois não requer conhecimento prévio sobre a precedência de operadores em Python\n",
    "\n",
    "\t`2 + (3 * 4)`\n",
    "    \n",
    "\n",
    "2. Permite modificar a ordem de precedência\n",
    "\n",
    "\t`(2 + 3) * 4`\n",
    "\n",
    "## Expressões Lógicas/Booleanas\n",
    "\n",
    "Estruturas de controle (seleção e repetição) utilizam expressões booleanas para decidir:\n",
    "1. Qual bloco de comandos será executado:\n",
    "\n",
    "```python\n",
    "if EXPRESSAO_BOOLEANA_1:\n",
    "    # bloco 1\n",
    "elif EXPRESSAO_BOOLEANA_2:\n",
    "    # bloco 2\n",
    "else:\n",
    "    # bloco 3\n",
    "```\n",
    "\n",
    "\n",
    "2. Se o bloco de comandos deverá ser repetido:\n",
    "\n",
    "```python\n",
    "while EXPRESSAO_BOOLEANA:\n",
    "    # bloco\n",
    "```\n",
    "            \n",
    "\n",
    "## Comando IF-ELSE\n",
    "\n",
    "<img  src=\"../imagens/comandoIf.png\" width=\"600\" />\n",
    "\n",
    "Vamos escrever um programa que faz a leitura de três números inteiros e imprime o maior dos três.\n"
   ]
  },
  {
   "cell_type": "code",
   "execution_count": 27,
   "metadata": {},
   "outputs": [
    {
     "name": "stdout",
     "output_type": "stream",
     "text": [
      "Número 1: 0112\n",
      "Número 2: 12\n",
      "Número 3: 1\n",
      "O maior número é 112\n"
     ]
    }
   ],
   "source": [
    "n1 = int(input(\"Número 1: \"))\n",
    "n2 = int(input(\"Número 2: \"))\n",
    "n3 = int(input(\"Número 3: \"))\n",
    "\n",
    "if (n1 > n2 and n1 > n3):\n",
    "    print(f\"O maior número é {n1}\")\n",
    "elif (n2 > n3):\n",
    "    print(f\"O maior número é {n2}\")\n",
    "else:\n",
    "    print(f\"O maior número é {n3}\")"
   ]
  },
  {
   "cell_type": "markdown",
   "metadata": {},
   "source": [
    "### Exercício\n",
    "\n",
    "Escreva um programa para ler um valor real correspondente a uma nota, tal que 0 ≤ nota ≤ 10, e imprimir o conceito equivalente (A, B, C, D ou E), conforme a seguinte tabela:\n",
    "\n",
    "<img  src=\"../imagens/tabelaAula04.png\" width=\"250\" />\n",
    "\n"
   ]
  },
  {
   "cell_type": "code",
   "execution_count": 40,
   "metadata": {},
   "outputs": [
    {
     "name": "stdout",
     "output_type": "stream",
     "text": [
      "Digite a nota: 1\n",
      "E\n"
     ]
    }
   ],
   "source": [
    "n = float(input(\"Digite a nota: \"))\n",
    "\n",
    "if n >= 8.5:\n",
    "    print(\"A\")\n",
    "elif n >= 7:\n",
    "    print(\"B\")\n",
    "elif n >= 5:\n",
    "    print(\"C\")\n",
    "elif n >= 3:\n",
    "    print(\"D\")\n",
    "else:\n",
    "    print(\"E\")"
   ]
  },
  {
   "cell_type": "markdown",
   "metadata": {},
   "source": [
    "\n",
    "\n",
    "## Coerção de Tipos\n",
    "\n",
    "É possível converter um valor de um tipo em outro tipo, desde que faça sentido. Por exemplo, não faria sentido converter o string “Rui” para inteiro. Por outro lado, faria sentido converter o String \"3\" em um valor inteiro.\n",
    "\n",
    "Seguem alguns exemplos de funções que podem ser usadas para fazer converções de valores de um tipo para outro tipo.\n"
   ]
  },
  {
   "cell_type": "code",
   "execution_count": 43,
   "metadata": {},
   "outputs": [
    {
     "name": "stdout",
     "output_type": "stream",
     "text": [
      "3\n"
     ]
    },
    {
     "data": {
      "text/plain": [
       "int"
      ]
     },
     "execution_count": 43,
     "metadata": {},
     "output_type": "execute_result"
    }
   ],
   "source": [
    "x = int(\"3\")\n",
    "print(x)\n",
    "type(x)"
   ]
  },
  {
   "cell_type": "code",
   "execution_count": null,
   "metadata": {},
   "outputs": [],
   "source": []
  },
  {
   "cell_type": "markdown",
   "metadata": {},
   "source": [
    "### Exercício 1\n",
    "\n",
    "Escreva um programa para ler dois valores reais, x e y, correspondentes às coordenadas de um ponto no plano e dizer em que quadrante se encontra, ou se está no eixo-x ou no eixo-y ou se está na origem.\n",
    "\n",
    "<img  src=\"../imagens/coordenadas.png\" width=\"150\" />"
   ]
  },
  {
   "cell_type": "code",
   "execution_count": 52,
   "metadata": {},
   "outputs": [
    {
     "name": "stdout",
     "output_type": "stream",
     "text": [
      "X: -1\n",
      "Y: -1\n",
      "3º Quadrante: (-1.0,-1.0)\n"
     ]
    }
   ],
   "source": [
    "x, y = float(input(\"X: \")), float(input(\"Y: \"))\n",
    "\n",
    "if x == 0 and y == 0:\n",
    "    print(f\"Origem: ({x},{y})\")\n",
    "elif x == 0:\n",
    "    print(f\"No eixo y: ({x},{y})\")\n",
    "elif y == 0:\n",
    "    print(f\"No eixo x: ({x},{y})\")\n",
    "elif x > 0:\n",
    "    if y > 0:\n",
    "        print(f\"1º Quadrante: ({x},{y})\")\n",
    "    else:\n",
    "        print(f\"4º Quadrante: ({x},{y})\")\n",
    "else:\n",
    "    if y > 0:\n",
    "        print(f\"2º Quadrante: ({x},{y})\")\n",
    "    else:\n",
    "        print(f\"3º Quadrante: ({x},{y})\")"
   ]
  },
  {
   "cell_type": "markdown",
   "metadata": {},
   "source": [
    "### Exercício 2\n",
    "\n",
    "Escreva um programa para ler valores para os três lados de um triângulo e dizer o seu tipo (equilátero, isósceles ou escaleno).  \n"
   ]
  },
  {
   "cell_type": "code",
   "execution_count": 58,
   "metadata": {},
   "outputs": [
    {
     "name": "stdout",
     "output_type": "stream",
     "text": [
      "Lado 1: 1\n",
      "Lado 2: 2\n",
      "Lado 3: 3\n",
      "Escaleno\n"
     ]
    }
   ],
   "source": [
    "l1, l2, l3 = float(input(\"Lado 1: \")), float(input(\"Lado 2: \")), float(input(\"Lado 3: \"))\n",
    "\n",
    "if l1 == l2 and l2 == l3:\n",
    "    print(\"Equilátero\")\n",
    "elif l1 == l2 or l1 == l3 or l2 == l3:\n",
    "    print(\"Isósceles\")\n",
    "else:\n",
    "    print(\"Escaleno\")"
   ]
  },
  {
   "cell_type": "markdown",
   "metadata": {},
   "source": [
    "### Exercício 3\n",
    "Escreva um programa para ler dois valores reais, correspondentes ao peso e à altura de uma pessoa, e calcular o Índice de Massa Corporal (IMC), pela fórmula: `IMC = peso/altura**2`. Em seguida, dar mensagem conforme a seguinte tabela:\n",
    "\n",
    "\n",
    "<img  src=\"../imagens/Aula04Tabela2.png\" width=\"300\" />\n",
    "\n"
   ]
  },
  {
   "cell_type": "code",
   "execution_count": 66,
   "metadata": {},
   "outputs": [
    {
     "name": "stdout",
     "output_type": "stream",
     "text": [
      "Peso: 12\n",
      "Altura: 1\n",
      "Abaixo do peso: 12.0\n"
     ]
    }
   ],
   "source": [
    "peso, altura = float(input(\"Peso: \")), float(input(\"Altura: \"))\n",
    "\n",
    "imc = peso / altura ** 2\n",
    "\n",
    "if imc > 30:\n",
    "    print(f\"Obeso: {imc}\")\n",
    "elif imc > 25:\n",
    "    print(f\"Acima do peso: {imc}\")\n",
    "elif imc > 18.5:\n",
    "    print(f\"Peso normal: {imc}\")\n",
    "else:\n",
    "    print(f\"Abaixo do peso: {imc}\")"
   ]
  }
 ],
 "metadata": {
  "kernelspec": {
   "display_name": "Python 3 (ipykernel)",
   "language": "python",
   "name": "python3"
  },
  "language_info": {
   "codemirror_mode": {
    "name": "ipython",
    "version": 3
   },
   "file_extension": ".py",
   "mimetype": "text/x-python",
   "name": "python",
   "nbconvert_exporter": "python",
   "pygments_lexer": "ipython3",
   "version": "3.10.6"
  },
  "toc": {
   "base_numbering": 1,
   "nav_menu": {},
   "number_sections": true,
   "sideBar": true,
   "skip_h1_title": false,
   "title_cell": "Table of Contents",
   "title_sidebar": "Contents",
   "toc_cell": false,
   "toc_position": {},
   "toc_section_display": true,
   "toc_window_display": false
  }
 },
 "nbformat": 4,
 "nbformat_minor": 2
}
